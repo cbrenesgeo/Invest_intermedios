{
 "cells": [
  {
   "cell_type": "code",
   "execution_count": 5,
   "id": "3bea321c-4001-43e2-b0d8-2e12467f68f0",
   "metadata": {},
   "outputs": [
    {
     "name": "stderr",
     "output_type": "stream",
     "text": [
      "Warning 1: A geometry of type MULTIPOLYGON is inserted into layer disjoint_vector of geometry type POLYGON, which is not normally allowed by the GeoPackage specification, but the driver will however do it. To create a conformant GeoPackage, if using ogr2ogr, the -nlt option can be used to override the layer geometry type. This warning will no longer be emitted for this combination of layer and feature geometry type.\n",
      "Warning 1: A geometry of type MULTIPOLYGON is inserted into layer disjoint_vector of geometry type POLYGON, which is not normally allowed by the GeoPackage specification, but the driver will however do it. To create a conformant GeoPackage, if using ogr2ogr, the -nlt option can be used to override the layer geometry type. This warning will no longer be emitted for this combination of layer and feature geometry type.\n",
      "Warning 1: A geometry of type MULTIPOLYGON is inserted into layer disjoint_vector of geometry type POLYGON, which is not normally allowed by the GeoPackage specification, but the driver will however do it. To create a conformant GeoPackage, if using ogr2ogr, the -nlt option can be used to override the layer geometry type. This warning will no longer be emitted for this combination of layer and feature geometry type.\n",
      "Warning 1: A geometry of type MULTIPOLYGON is inserted into layer disjoint_vector of geometry type POLYGON, which is not normally allowed by the GeoPackage specification, but the driver will however do it. To create a conformant GeoPackage, if using ogr2ogr, the -nlt option can be used to override the layer geometry type. This warning will no longer be emitted for this combination of layer and feature geometry type.\n",
      "Warning 1: A geometry of type MULTIPOLYGON is inserted into layer disjoint_vector of geometry type POLYGON, which is not normally allowed by the GeoPackage specification, but the driver will however do it. To create a conformant GeoPackage, if using ogr2ogr, the -nlt option can be used to override the layer geometry type. This warning will no longer be emitted for this combination of layer and feature geometry type.\n",
      "Warning 1: A geometry of type MULTIPOLYGON is inserted into layer disjoint_vector of geometry type POLYGON, which is not normally allowed by the GeoPackage specification, but the driver will however do it. To create a conformant GeoPackage, if using ogr2ogr, the -nlt option can be used to override the layer geometry type. This warning will no longer be emitted for this combination of layer and feature geometry type.\n"
     ]
    },
    {
     "name": "stdout",
     "output_type": "stream",
     "text": [
      "✅ UFRM completado. Resultados en: /home/cbrenes/GIS/INVEST_ELS/MODELLING/workspace_ufrm\n"
     ]
    }
   ],
   "source": [
    "# -*- coding: utf-8 -*-\n",
    "\"\"\"\n",
    "Runner: InVEST Urban Flood Risk Mitigation (UFRM)\n",
    "\n",
    "Requisitos:\n",
    "  - Paquete natcap.invest instalado en tu entorno.\n",
    "  - Todas las capas en sistema de coordenadas proyectado (no geográficas).\n",
    "  - La resolución de salida será la del raster de LULC.\n",
    "\n",
    "Completa las rutas con tus insumos antes de ejecutar.\n",
    "\"\"\"\n",
    "\n",
    "import os\n",
    "from natcap.invest.urban_flood_risk_mitigation import execute as ufrm_execute\n",
    "\n",
    "def run_ufrm(\n",
    "    workspace_dir,\n",
    "    aoi_watersheds_path,\n",
    "    rainfall_depth_mm,\n",
    "    lulc_raster_path,\n",
    "    soils_hsg_raster_path,\n",
    "    curve_number_table_csv,\n",
    "    # Opcionales para valoración (dejar None si no se usan):\n",
    "    built_infra_vector_path=None,\n",
    "    damage_loss_table_csv=None,\n",
    "    results_suffix=\"\",\n",
    "    n_workers=-1\n",
    "):\n",
    "    \"\"\"\n",
    "    Ejecuta Urban Flood Risk Mitigation con los argumentos mínimos y opcionales.\n",
    "    \"\"\"\n",
    "    # Crear workspace si no existe\n",
    "    os.makedirs(workspace_dir, exist_ok=True)\n",
    "\n",
    "    # Diccionario de argumentos EXACTOS según API vigente\n",
    "    args = {\n",
    "        \"workspace_dir\": workspace_dir,\n",
    "        \"results_suffix\": results_suffix,               # opcional\n",
    "        \"aoi_watersheds_path\": aoi_watersheds_path,    # requerido (vector)\n",
    "        \"rainfall_depth\": float(rainfall_depth_mm),    # requerido (mm)\n",
    "        \"lulc_path\": lulc_raster_path,                 # requerido (raster)\n",
    "        \"soils_hydrological_group_raster_path\": soils_hsg_raster_path,  # requerido (raster valores 1-4)\n",
    "        \"curve_number_table_path\": curve_number_table_csv,              # requerido (CSV con columnas lucode, CN_A, CN_B, CN_C, CN_D)\n",
    "        \"n_workers\": int(n_workers),                   # opcional\n",
    "    }\n",
    "\n",
    "    # Añadir opcionales solo si se proporcionan\n",
    "    if built_infra_vector_path:\n",
    "        args[\"built_infrastructure_vector_path\"] = built_infra_vector_path\n",
    "    if damage_loss_table_csv:\n",
    "        args[\"infrastructure_damage_loss_table_path\"] = damage_loss_table_csv\n",
    "\n",
    "    # Ejecutar modelo\n",
    "    ufrm_execute(args)\n",
    "\n",
    "    print(\"✅ UFRM completado. Resultados en:\", workspace_dir)\n",
    "\n",
    "\n",
    "if __name__ == \"__main__\":\n",
    "    # ====== EDITA AQUÍ TUS RUTAS / PARÁMETROS ======\n",
    "    workspace_dir = r\"/home/cbrenes/GIS/INVEST_ELS/MODELLING/workspace_ufrm\"\n",
    "    aoi_watersheds_path = r\"/home/cbrenes/GIS/INVEST_ELS/MODELLING/3_VECTOR/subcuencas_els.shp\"  # polígonos/multipolígonos (cuencas/subcuencas/sewersheds)\n",
    "    rainfall_depth_mm = 30.0  # Profundidad de la lluvia de diseño (mm). Ajusta según tu IDF o criterio.\n",
    "    lulc_raster_path = r\"/home/cbrenes/GIS/INVEST_ELS/MODELLING/2_RASTER/lulc_16_30m.tif\"\n",
    "    soils_hsg_raster_path = r\"/home/cbrenes/GIS/INVEST_ELS/MODELLING/2_RASTER/grupos_hidro_rlcss.tif\"  # valores 1=A, 2=B, 3=C, 4=D\n",
    "    curve_number_table_csv = r\"/home/cbrenes/GIS/INVEST_ELS/MODELLING/4_TABLES/biophysical_UFRM_CN_criterios.csv\"\n",
    "    # --- Opcionales para calcular daño potencial y servicio evitado ---\n",
    "    built_infra_vector_path = None  # r\"/RUTA/A/TU/buildings.shp\" (campo 'Type' entero por categoría)\n",
    "    damage_loss_table_csv = None    # r\"/RUTA/A/TU/damage_loss_table.csv\" (columnas 'Type','Damage' en moneda/m^2)\n",
    "    # Sufijo de corrida y workers\n",
    "    results_suffix = \"_escenario_base\"\n",
    "    n_workers = -1  # -1 = modo proceso único (bloqueante). >=1 = número de procesos.\n",
    "\n",
    "    run_ufrm(\n",
    "        workspace_dir=workspace_dir,\n",
    "        aoi_watersheds_path=aoi_watersheds_path,\n",
    "        rainfall_depth_mm=rainfall_depth_mm,\n",
    "        lulc_raster_path=lulc_raster_path,\n",
    "        soils_hsg_raster_path=soils_hsg_raster_path,\n",
    "        curve_number_table_csv=curve_number_table_csv,\n",
    "        built_infra_vector_path=built_infra_vector_path,\n",
    "        damage_loss_table_csv=damage_loss_table_csv,\n",
    "        results_suffix=results_suffix,\n",
    "        n_workers=n_workers\n",
    "    )\n"
   ]
  },
  {
   "cell_type": "code",
   "execution_count": null,
   "id": "166f5c96-85cb-4dad-bbe4-f4376d727b02",
   "metadata": {},
   "outputs": [],
   "source": []
  },
  {
   "cell_type": "code",
   "execution_count": null,
   "id": "8838f74f-2c5c-44a1-b308-7861895a160b",
   "metadata": {},
   "outputs": [],
   "source": []
  }
 ],
 "metadata": {
  "kernelspec": {
   "display_name": "Python 3 (ipykernel)",
   "language": "python",
   "name": "python3"
  },
  "language_info": {
   "codemirror_mode": {
    "name": "ipython",
    "version": 3
   },
   "file_extension": ".py",
   "mimetype": "text/x-python",
   "name": "python",
   "nbconvert_exporter": "python",
   "pygments_lexer": "ipython3",
   "version": "3.10.18"
  }
 },
 "nbformat": 4,
 "nbformat_minor": 5
}
