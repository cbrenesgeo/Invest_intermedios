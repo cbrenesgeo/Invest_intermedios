{
 "cells": [
  {
   "cell_type": "code",
   "execution_count": 3,
   "id": "51c38bf2-2b2d-4173-bd4f-b9c4d75cfb0d",
   "metadata": {},
   "outputs": [
    {
     "name": "stdout",
     "output_type": "stream",
     "text": [
      "¿ndr_execute es callable? True\n",
      "Firma de ndr_execute: (args)\n"
     ]
    }
   ],
   "source": [
    "from natcap.invest.ndr.ndr import execute as ndr_execute\n",
    "import inspect\n",
    "\n",
    "print(\"¿ndr_execute es callable?\", callable(ndr_execute))\n",
    "print(\"Firma de ndr_execute:\", inspect.signature(ndr_execute))\n"
   ]
  },
  {
   "cell_type": "code",
   "execution_count": 4,
   "id": "ea782464-eb5b-44a6-9ff4-aa5cc3d2d215",
   "metadata": {},
   "outputs": [
    {
     "name": "stdout",
     "output_type": "stream",
     "text": [
      "Claves en args para NDR: ['workspace_dir', 'results_suffix', 'dem_path', 'runoff_proxy_path', 'lulc_path', 'watersheds_path', 'biophysical_table_path', 'calc_n', 'calc_p', 'threshold_flow_accumulation', 'k_param', 'subsurface_eff_n', 'subsurface_critical_length_n', 'subsurface_eff_p', 'subsurface_critical_length_p', 'flow_dir_algorithm']\n"
     ]
    },
    {
     "name": "stderr",
     "output_type": "stream",
     "text": [
      "Warning 1: A geometry of type MULTIPOLYGON is inserted into layer subcuencas_els of geometry type POLYGON, which is not normally allowed by the GeoPackage specification, but the driver will however do it. To create a conformant GeoPackage, if using ogr2ogr, the -nlt option can be used to override the layer geometry type. This warning will no longer be emitted for this combination of layer and feature geometry type.\n",
      "/home/cbrenes/miniconda3/envs/invest_env/lib/python3.10/site-packages/natcap/invest/ndr/ndr.py:1732: RuntimeWarning: divide by zero encountered in divide\n",
      "  (1 - numpy.exp(-5 * dist_to_channel / crit_len_sub))),\n",
      "/home/cbrenes/miniconda3/envs/invest_env/lib/python3.10/site-packages/natcap/invest/ndr/ndr.py:1732: RuntimeWarning: invalid value encountered in divide\n",
      "  (1 - numpy.exp(-5 * dist_to_channel / crit_len_sub))),\n",
      "Warning 1: A geometry of type MULTIPOLYGON is inserted into layer disjoint_vector of geometry type POLYGON, which is not normally allowed by the GeoPackage specification, but the driver will however do it. To create a conformant GeoPackage, if using ogr2ogr, the -nlt option can be used to override the layer geometry type. This warning will no longer be emitted for this combination of layer and feature geometry type.\n",
      "Warning 1: A geometry of type MULTIPOLYGON is inserted into layer disjoint_vector of geometry type POLYGON, which is not normally allowed by the GeoPackage specification, but the driver will however do it. To create a conformant GeoPackage, if using ogr2ogr, the -nlt option can be used to override the layer geometry type. This warning will no longer be emitted for this combination of layer and feature geometry type.\n",
      "Warning 1: A geometry of type MULTIPOLYGON is inserted into layer disjoint_vector of geometry type POLYGON, which is not normally allowed by the GeoPackage specification, but the driver will however do it. To create a conformant GeoPackage, if using ogr2ogr, the -nlt option can be used to override the layer geometry type. This warning will no longer be emitted for this combination of layer and feature geometry type.\n",
      "Warning 1: A geometry of type MULTIPOLYGON is inserted into layer disjoint_vector of geometry type POLYGON, which is not normally allowed by the GeoPackage specification, but the driver will however do it. To create a conformant GeoPackage, if using ogr2ogr, the -nlt option can be used to override the layer geometry type. This warning will no longer be emitted for this combination of layer and feature geometry type.\n",
      "Warning 1: A geometry of type MULTIPOLYGON is inserted into layer disjoint_vector of geometry type POLYGON, which is not normally allowed by the GeoPackage specification, but the driver will however do it. To create a conformant GeoPackage, if using ogr2ogr, the -nlt option can be used to override the layer geometry type. This warning will no longer be emitted for this combination of layer and feature geometry type.\n",
      "Warning 1: A geometry of type MULTIPOLYGON is inserted into layer disjoint_vector of geometry type POLYGON, which is not normally allowed by the GeoPackage specification, but the driver will however do it. To create a conformant GeoPackage, if using ogr2ogr, the -nlt option can be used to override the layer geometry type. This warning will no longer be emitted for this combination of layer and feature geometry type.\n",
      "Warning 1: A geometry of type MULTIPOLYGON is inserted into layer disjoint_vector of geometry type POLYGON, which is not normally allowed by the GeoPackage specification, but the driver will however do it. To create a conformant GeoPackage, if using ogr2ogr, the -nlt option can be used to override the layer geometry type. This warning will no longer be emitted for this combination of layer and feature geometry type.\n",
      "Warning 1: A geometry of type MULTIPOLYGON is inserted into layer disjoint_vector of geometry type POLYGON, which is not normally allowed by the GeoPackage specification, but the driver will however do it. To create a conformant GeoPackage, if using ogr2ogr, the -nlt option can be used to override the layer geometry type. This warning will no longer be emitted for this combination of layer and feature geometry type.\n",
      "Warning 1: A geometry of type MULTIPOLYGON is inserted into layer disjoint_vector of geometry type POLYGON, which is not normally allowed by the GeoPackage specification, but the driver will however do it. To create a conformant GeoPackage, if using ogr2ogr, the -nlt option can be used to override the layer geometry type. This warning will no longer be emitted for this combination of layer and feature geometry type.\n",
      "Warning 1: A geometry of type MULTIPOLYGON is inserted into layer disjoint_vector of geometry type POLYGON, which is not normally allowed by the GeoPackage specification, but the driver will however do it. To create a conformant GeoPackage, if using ogr2ogr, the -nlt option can be used to override the layer geometry type. This warning will no longer be emitted for this combination of layer and feature geometry type.\n",
      "Warning 1: A geometry of type MULTIPOLYGON is inserted into layer disjoint_vector of geometry type POLYGON, which is not normally allowed by the GeoPackage specification, but the driver will however do it. To create a conformant GeoPackage, if using ogr2ogr, the -nlt option can be used to override the layer geometry type. This warning will no longer be emitted for this combination of layer and feature geometry type.\n",
      "Warning 1: A geometry of type MULTIPOLYGON is inserted into layer disjoint_vector of geometry type POLYGON, which is not normally allowed by the GeoPackage specification, but the driver will however do it. To create a conformant GeoPackage, if using ogr2ogr, the -nlt option can be used to override the layer geometry type. This warning will no longer be emitted for this combination of layer and feature geometry type.\n",
      "Warning 1: A geometry of type MULTIPOLYGON is inserted into layer disjoint_vector of geometry type POLYGON, which is not normally allowed by the GeoPackage specification, but the driver will however do it. To create a conformant GeoPackage, if using ogr2ogr, the -nlt option can be used to override the layer geometry type. This warning will no longer be emitted for this combination of layer and feature geometry type.\n",
      "Warning 1: A geometry of type MULTIPOLYGON is inserted into layer disjoint_vector of geometry type POLYGON, which is not normally allowed by the GeoPackage specification, but the driver will however do it. To create a conformant GeoPackage, if using ogr2ogr, the -nlt option can be used to override the layer geometry type. This warning will no longer be emitted for this combination of layer and feature geometry type.\n",
      "Warning 1: A geometry of type MULTIPOLYGON is inserted into layer subcuencas_els of geometry type POLYGON, which is not normally allowed by the GeoPackage specification, but the driver will however do it. To create a conformant GeoPackage, if using ogr2ogr, the -nlt option can be used to override the layer geometry type. This warning will no longer be emitted for this combination of layer and feature geometry type.\n"
     ]
    },
    {
     "name": "stdout",
     "output_type": "stream",
     "text": [
      "✅ NDR completado. Revisa la carpeta de salida en: /home/cbrenes/GIS/INVEST_ELS/MODELLING/workspace_ndr_SAF\n"
     ]
    }
   ],
   "source": [
    "import os\n",
    "\n",
    "# (Ya montaste Drive y creaste workspace, por lo que solo usamos esas rutas)\n",
    "BASE = '/home/cbrenes/GIS/INVEST_ELS/MODELLING'\n",
    "workspace = os.path.join(BASE, 'workspace_ndr_SAF')\n",
    "\n",
    "args = {\n",
    "    # ---------- Parámetros básicos (idénticos a SDR, salvo nombres) ----------\n",
    "    'workspace_dir': workspace,\n",
    "    'results_suffix': 'escenario_base',\n",
    "\n",
    "    'dem_path': '/home/cbrenes/GIS/INVEST_ELS/MODELLING/2_RASTER/dem_els.tif',\n",
    "    # En lugar de erosivity_path + erodibility_path de SDR, NDR usa un raster de escorrentía:\n",
    "    'runoff_proxy_path': '/home/cbrenes/GIS/INVEST_ELS/MODELLING/2_RASTER/pp_els.tif',\n",
    "\n",
    "    'lulc_path': '/home/cbrenes/GIS/INVEST_ELS/MODELLING/2_RASTER/lulc_16_30m_saf_fix.tif',\n",
    "    # NDR espera \"watershed_path\" (no \"watersheds_path\"):\n",
    "    'watersheds_path': '/home/cbrenes/GIS/INVEST_ELS/MODELLING/3_VECTOR/subcuencas_els.shp',\n",
    "    'biophysical_table_path': '/home/cbrenes/GIS/INVEST_ELS/MODELLING/4_TABLES/biophysical_SDR_NDR_ElSalvador_SAF.csv',\n",
    "\n",
    "    # ----- Parámetros que faltaban: indicar si calculo N y/o P -----\n",
    "    'calc_n': True,   # True = calcular nitrógeno\n",
    "    'calc_p': True,   # True = calcular fósforo\n",
    "\n",
    "    # ----- Parámetros hidráulicos / de conectividad (mismos valores que usaba en SDR) -----\n",
    "    'threshold_flow_accumulation': 100,  # umbral en píxeles para definir la red de drenaje\n",
    "    'k_param': 2.0,                      # mismo K_param que usaba en SDR\n",
    "\n",
    "    # ----- Parámetros de flujo subsuperficial (valor 0 para no modelarlo) -----\n",
    "    'subsurface_eff_n': 0.0,\n",
    "    'subsurface_critical_length_n': 0.0,\n",
    "    'subsurface_eff_p': 0.0,\n",
    "    'subsurface_critical_length_p': 0.0,\n",
    "\n",
    "    # (En SDR tenían ic_0_param, sdr_max, drainage_path, l_max, n_workers;\n",
    "    #  estos no aplica en NDR y se omiten)\n",
    "\n",
    "    #dirección de flujo\n",
    "    'flow_dir_algorithm': 'D8',  # o 'MFD'\n",
    "}\n",
    "\n",
    "# Verificamos que las claves obligatorias de NDR estén incluidas\n",
    "print(\"Claves en args para NDR:\", list(args.keys()))\n",
    "\n",
    "# Aquí lanzamos NDR:\n",
    "from natcap.invest.ndr.ndr import execute as ndr_execute\n",
    "ndr_execute(args)\n",
    "print(\"✅ NDR completado. Revisa la carpeta de salida en:\", workspace)"
   ]
  },
  {
   "cell_type": "code",
   "execution_count": null,
   "id": "5616c210-6fe1-46b8-843d-92c405ff9619",
   "metadata": {},
   "outputs": [],
   "source": []
  }
 ],
 "metadata": {
  "kernelspec": {
   "display_name": "Python 3 (ipykernel)",
   "language": "python",
   "name": "python3"
  },
  "language_info": {
   "codemirror_mode": {
    "name": "ipython",
    "version": 3
   },
   "file_extension": ".py",
   "mimetype": "text/x-python",
   "name": "python",
   "nbconvert_exporter": "python",
   "pygments_lexer": "ipython3",
   "version": "3.10.18"
  }
 },
 "nbformat": 4,
 "nbformat_minor": 5
}
