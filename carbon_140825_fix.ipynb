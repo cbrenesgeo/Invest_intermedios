{
 "cells": [
  {
   "cell_type": "code",
   "execution_count": 2,
   "id": "e9338498-fc32-4cf3-86f9-7c69889f68f6",
   "metadata": {},
   "outputs": [
    {
     "name": "stderr",
     "output_type": "stream",
     "text": [
      "INFO: Iniciando ejecución del módulo Carbon Storage and Sequestration...\n",
      "INFO: Building file registry\n"
     ]
    },
    {
     "name": "stdout",
     "output_type": "stream",
     "text": [
      "¿carbon_execute es callable? True\n",
      "Firma de carbon_execute: (args)\n"
     ]
    },
    {
     "name": "stderr",
     "output_type": "stream",
     "text": [
      "INFO: Map all carbon pools to carbon storage rasters.\n",
      "INFO: Mapping carbon from 'lulc_bas_path' to 'c_above_bas' scenario.\n",
      "INFO: Mapping carbon from 'lulc_bas_path' to 'c_below_bas' scenario.\n",
      "INFO: Mapping carbon from 'lulc_bas_path' to 'c_soil_bas' scenario.\n",
      "INFO: Mapping carbon from 'lulc_bas_path' to 'c_dead_bas' scenario.\n",
      "INFO: Calculate carbon storage for 'c_storage_bas'\n",
      "INFO: starting stats_worker\n",
      "DEBUG: stats worker PID: 26778\n",
      "INFO: started stats_worker <Thread(Thread-5 (stats_worker), started daemon 139345136690880)>\n",
      "INFO: 100.0% complete\n",
      "INFO: Waiting for raster stats worker result.\n",
      "INFO: starting stats_worker\n",
      "DEBUG: stats worker PID: 26778\n",
      "INFO: started stats_worker <Thread(Thread-6 (stats_worker), started daemon 139345136690880)>\n",
      "INFO: 100.0% complete\n",
      "INFO: Waiting for raster stats worker result.\n",
      "INFO: starting stats_worker\n",
      "DEBUG: stats worker PID: 26778\n",
      "INFO: started stats_worker <Thread(Thread-7 (stats_worker), started daemon 139345136690880)>\n",
      "INFO: 100.0% complete\n",
      "INFO: Waiting for raster stats worker result.\n",
      "INFO: starting stats_worker\n",
      "DEBUG: stats worker PID: 26778\n",
      "INFO: started stats_worker <Thread(Thread-8 (stats_worker), started daemon 139345136690880)>\n",
      "INFO: 100.0% complete\n",
      "INFO: Waiting for raster stats worker result.\n",
      "INFO: starting stats_worker\n",
      "DEBUG: stats worker PID: 26778\n",
      "INFO: started stats_worker <Thread(Thread-9 (stats_worker), started daemon 139345136690880)>\n",
      "INFO: 100.0% complete\n",
      "INFO: Waiting for raster stats worker result.\n",
      "INFO: ✅ Ejecución finalizada con éxito.\n"
     ]
    },
    {
     "name": "stdout",
     "output_type": "stream",
     "text": [
      "\n",
      "✅ Listo! Revisa los resultados en:\n",
      "/home/cbrenes/GIS/INVEST_ELS/MODELLING/workspace_carbon/carbon_outputs_esc_base/\n"
     ]
    }
   ],
   "source": [
    "# --------------------------------------------------------------------\n",
    "# Script corregido para ejecutar el módulo Carbon con tus rutas\n",
    "# --------------------------------------------------------------------\n",
    "\n",
    "import os\n",
    "import sys\n",
    "import logging\n",
    "import inspect\n",
    "from natcap.invest.carbon import execute as carbon_execute\n",
    "\n",
    "# 1) Verificar la firma de la función\n",
    "print(\"¿carbon_execute es callable?\", callable(carbon_execute))\n",
    "print(\"Firma de carbon_execute:\", inspect.signature(carbon_execute))\n",
    "\n",
    "# --------------------------------------------------------------------\n",
    "# 2) Definir rutas absolutas y parámetros (tal como en tu notebook)\n",
    "# --------------------------------------------------------------------\n",
    "BASE              = '/home/cbrenes/GIS/INVEST_ELS/MODELLING'\n",
    "workspace_dir     = os.path.join(BASE, 'workspace_carbon')\n",
    "results_suffix    = 'esc_base'\n",
    "\n",
    "# Rasters y CSV que tienes en distintos folders\n",
    "lulc_bas_path     = '/home/cbrenes/GIS/INVEST_ELS/MODELLING/2_RASTER/luc_2016_nodata127.tif'\n",
    "carbon_pools_path = '/home/cbrenes/GIS/INVEST_ELS/MODELLING/2_RASTER/c_pool.csv'\n",
    "\n",
    "# Opciones de secuestro y valoración (ajusta si las necesitas)\n",
    "calc_sequestration = False\n",
    "do_valuation       = False\n",
    "\n",
    "# Si habilitas cualquiera, descomenta y define estas rutas/años:\n",
    "# lulc_alt_path     = '/home/cbrenes/GIS/INVEST_ELS/MODELLING/2_RASTER/luc_2030.tif'\n",
    "# lulc_bas_year     = 2016\n",
    "# lulc_alt_year     = 2030\n",
    "# price_per_metric_ton_of_c = 25.0\n",
    "# discount_rate            = 0.0\n",
    "# rate_change              = 0.0\n",
    "\n",
    "# --------------------------------------------------------------------\n",
    "# 3) Construir el diccionario de argumentos\n",
    "# --------------------------------------------------------------------\n",
    "args = {\n",
    "    'workspace_dir': workspace_dir,\n",
    "    'results_suffix': results_suffix,\n",
    "    'lulc_bas_path': lulc_bas_path,\n",
    "    'carbon_pools_path': carbon_pools_path,\n",
    "    'calc_sequestration': calc_sequestration,\n",
    "    'do_valuation': do_valuation,\n",
    "    # Descomenta si activas los escenarios o la valoración:\n",
    "    # 'lulc_alt_path': lulc_alt_path,\n",
    "    # 'lulc_bas_year': lulc_bas_year,\n",
    "    # 'lulc_alt_year': lulc_alt_year,\n",
    "    # 'price_per_metric_ton_of_c': price_per_metric_ton_of_c,\n",
    "    # 'discount_rate': discount_rate,\n",
    "    # 'rate_change': rate_change,\n",
    "    'n_workers': 1,\n",
    "}\n",
    "\n",
    "# --------------------------------------------------------------------\n",
    "# 4) Configurar logging y ejecutar el modelo\n",
    "# --------------------------------------------------------------------\n",
    "logging.basicConfig(level=logging.INFO, format='%(levelname)s: %(message)s')\n",
    "\n",
    "try:\n",
    "    logging.info(\"Iniciando ejecución del módulo Carbon Storage and Sequestration...\")\n",
    "    carbon_execute(args)\n",
    "    logging.info(\"✅ Ejecución finalizada con éxito.\")\n",
    "    print(f\"\\n✅ Listo! Revisa los resultados en:\\n{workspace_dir}/carbon_outputs_{results_suffix}/\")\n",
    "except Exception:\n",
    "    logging.exception(\"❌ Se produjo un error durante la ejecución de Carbon\")\n",
    "    sys.exit(1)\n"
   ]
  },
  {
   "cell_type": "code",
   "execution_count": null,
   "id": "e3616da5-9c19-4b6f-b90d-8d58de374d7b",
   "metadata": {},
   "outputs": [],
   "source": []
  }
 ],
 "metadata": {
  "kernelspec": {
   "display_name": "Python 3 (ipykernel)",
   "language": "python",
   "name": "python3"
  },
  "language_info": {
   "codemirror_mode": {
    "name": "ipython",
    "version": 3
   },
   "file_extension": ".py",
   "mimetype": "text/x-python",
   "name": "python",
   "nbconvert_exporter": "python",
   "pygments_lexer": "ipython3",
   "version": "3.10.18"
  }
 },
 "nbformat": 4,
 "nbformat_minor": 5
}
