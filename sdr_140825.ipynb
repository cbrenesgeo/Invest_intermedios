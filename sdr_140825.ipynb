{
 "cells": [
  {
   "cell_type": "code",
   "execution_count": 1,
   "id": "49904912-517f-4fca-a21d-23a036d69f05",
   "metadata": {},
   "outputs": [
    {
     "name": "stdout",
     "output_type": "stream",
     "text": [
      "¿sdr_execute es callable? True\n",
      "Firma de sdr_execute: (args)\n"
     ]
    }
   ],
   "source": [
    "from natcap.invest.sdr.sdr import execute as sdr_execute\n",
    "import inspect\n",
    "\n",
    "# Verificar firma y callable\n",
    "print(\"¿sdr_execute es callable?\", callable(sdr_execute))\n",
    "print(\"Firma de sdr_execute:\", inspect.signature(sdr_execute))"
   ]
  },
  {
   "cell_type": "code",
   "execution_count": 3,
   "id": "c3c7c28d-56be-40c5-b2b2-b8d5bad59787",
   "metadata": {},
   "outputs": [],
   "source": [
    "import os\n",
    "\n",
    "BASE = '/home/cbrenes/GIS/INVEST_ELS/MODELLING'\n",
    "workspace = os.path.join(BASE, 'workspace_sdr')"
   ]
  },
  {
   "cell_type": "code",
   "execution_count": 9,
   "id": "3ebb2528-5552-47e3-b84d-6839f0ce6be3",
   "metadata": {},
   "outputs": [
    {
     "name": "stdout",
     "output_type": "stream",
     "text": [
      "Claves en args: ['workspace_dir', 'results_suffix', 'dem_path', 'erosivity_path', 'erodibility_path', 'lulc_path', 'watersheds_path', 'biophysical_table_path', 'threshold_flow_accumulation', 'k_param', 'ic_0_param', 'sdr_max', 'drainage_path', 'l_max', 'flow_dir_algorithm', 'n_workers']\n"
     ]
    }
   ],
   "source": [
    "args = {\n",
    "    # ----- Parámetros básicos (todos obligatorios) -----\n",
    "    'workspace_dir': workspace,\n",
    "    'results_suffix': 'sdr_result',   # sufijo que quieras usar\n",
    "\n",
    "    'dem_path': '/home/cbrenes/GIS/INVEST_ELS/MODELLING/2_RASTER/dem_els.tif',\n",
    "    'erosivity_path': '/home/cbrenes/GIS/INVEST_ELS/MODELLING/2_RASTER/factor_r_clip.tif',\n",
    "    'erodibility_path': '/home/cbrenes/GIS/INVEST_ELS/MODELLING/2_RASTER/factor_k_clip.tif',\n",
    "    'lulc_path': '/home/cbrenes/GIS/INVEST_ELS/MODELLING/2_RASTER/lulc_16_30m.tif',\n",
    "    'watersheds_path': '/home/cbrenes/GIS/INVEST_ELS/MODELLING/3_VECTOR/subcuencas_els.shp',\n",
    "    'biophysical_table_path': '/home/cbrenes/GIS/INVEST_ELS/MODELLING/4_TABLES/biophysical_SDR_NDR_ElSalvador_fixed2.csv',\n",
    "\n",
    "    # ----- Parámetros específicos para SDR -----\n",
    "    'threshold_flow_accumulation': 100,  # umbral de acumulación de flujo en píxeles\n",
    "    'k_param': 2.0,                      # factor K de calibración\n",
    "    'ic_0_param': 0.5,                   # parámetro ic_0 de calibración\n",
    "    'sdr_max': 0.8,                      # SDR máximo permitido\n",
    "    'drainage_path': '',                 # deja vacío si no tienes raster de drenaje adicional\n",
    "    'l_max': 100.0,                      # valor máximo para factor longitud-pendiente (LS)\n",
    "    'flow_dir_algorithm': 'D8',  # o 'MFD'  #dirección de flujo\n",
    "\n",
    "    # ----- Configuración de cómputo -----\n",
    "    'n_workers': -1                      # -1 = todos los núcleos disponibles\n",
    "}\n",
    "\n",
    "print(\"Claves en args:\", list(args.keys()))"
   ]
  },
  {
   "cell_type": "code",
   "execution_count": 10,
   "id": "71661fea-dd62-4ff7-bafd-c9f0e6b86b05",
   "metadata": {},
   "outputs": [
    {
     "name": "stderr",
     "output_type": "stream",
     "text": [
      "Warning 1: A geometry of type MULTIPOLYGON is inserted into layer disjoint_vector of geometry type POLYGON, which is not normally allowed by the GeoPackage specification, but the driver will however do it. To create a conformant GeoPackage, if using ogr2ogr, the -nlt option can be used to override the layer geometry type. This warning will no longer be emitted for this combination of layer and feature geometry type.\n",
      "Warning 1: A geometry of type MULTIPOLYGON is inserted into layer disjoint_vector of geometry type POLYGON, which is not normally allowed by the GeoPackage specification, but the driver will however do it. To create a conformant GeoPackage, if using ogr2ogr, the -nlt option can be used to override the layer geometry type. This warning will no longer be emitted for this combination of layer and feature geometry type.\n"
     ]
    },
    {
     "name": "stdout",
     "output_type": "stream",
     "text": [
      "✅ SDR se completó satisfactoriamente. Revisa los resultados en: /home/cbrenes/GIS/INVEST_ELS/MODELLING/workspace_sdr\n"
     ]
    }
   ],
   "source": [
    "sdr_execute(args)\n",
    "print(\"✅ SDR se completó satisfactoriamente. Revisa los resultados en:\", workspace)"
   ]
  },
  {
   "cell_type": "code",
   "execution_count": null,
   "id": "beb8dd4f-39cc-448d-af6f-8f9b3fbdd1fa",
   "metadata": {},
   "outputs": [],
   "source": []
  }
 ],
 "metadata": {
  "kernelspec": {
   "display_name": "Python 3 (ipykernel)",
   "language": "python",
   "name": "python3"
  },
  "language_info": {
   "codemirror_mode": {
    "name": "ipython",
    "version": 3
   },
   "file_extension": ".py",
   "mimetype": "text/x-python",
   "name": "python",
   "nbconvert_exporter": "python",
   "pygments_lexer": "ipython3",
   "version": "3.10.18"
  }
 },
 "nbformat": 4,
 "nbformat_minor": 5
}
