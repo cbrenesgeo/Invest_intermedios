{
 "cells": [
  {
   "cell_type": "code",
   "execution_count": 1,
   "id": "a80b90e1-653d-4c4f-96d2-7ed531e55ad0",
   "metadata": {},
   "outputs": [
    {
     "name": "stdout",
     "output_type": "stream",
     "text": [
      "¿wy_execute es callable? True\n",
      "Firma de wy_execute: (args)\n"
     ]
    }
   ],
   "source": [
    "from natcap.invest.annual_water_yield import execute as wy_execute\n",
    "import inspect\n",
    "# Verificar firma y callable\n",
    "print(\"¿wy_execute es callable?\", callable(wy_execute))\n",
    "print(\"Firma de wy_execute:\", inspect.signature(wy_execute))"
   ]
  },
  {
   "cell_type": "code",
   "execution_count": 2,
   "id": "b2742900-40a4-4e2d-a06f-31d77570924b",
   "metadata": {},
   "outputs": [],
   "source": [
    "#ROOT = '/home/cbrenes/GIS/INVEST_ELS/MODELLING'"
   ]
  },
  {
   "cell_type": "code",
   "execution_count": 3,
   "id": "c81766a2-cf7c-440b-8642-890d2b8287b0",
   "metadata": {},
   "outputs": [],
   "source": [
    "import os\n",
    "\n",
    "BASE = '/home/cbrenes/GIS/INVEST_ELS/MODELLING'\n",
    "workspace = os.path.join(BASE, 'workspace_wy')"
   ]
  },
  {
   "cell_type": "code",
   "execution_count": 4,
   "id": "ea29d226-cfc2-4f03-a8df-0bd2302210ba",
   "metadata": {},
   "outputs": [],
   "source": [
    "args = {\n",
    "    'workspace_dir': f'{BASE}/workspace_wy',\n",
    "    'results_suffix': 'escenario_base_cc',\n",
    "\n",
    "    # Raster inputs\n",
    "    'lulc_path':            '/home/cbrenes/GIS/INVEST_ELS/MODELLING/2_RASTER/lulc_16_30m.tif',\n",
    "    'depth_to_root_rest_layer_path': '/home/cbrenes/GIS/INVEST_ELS/MODELLING/2_RASTER/root_depth.tif',\n",
    "    'precipitation_path':   '/home/cbrenes/GIS/INVEST_ELS/MODELLING/2_RASTER/pp_els_reduccion_0025.tif',\n",
    "    'pawc_path':            '/home/cbrenes/GIS/INVEST_ELS/MODELLING/2_RASTER/pawc.tif',\n",
    "    'eto_path':             '/home/cbrenes/GIS/INVEST_ELS/MODELLING/2_RASTER/ET0.tif',\n",
    "\n",
    "    # Vector inputs\n",
    "    'watersheds_path':      '/home/cbrenes/GIS/INVEST_ELS/MODELLING/3_VECTOR/subcuencas_els.shp',\n",
    "    # 'sub_watersheds_path':  '/home/cbrenes/GIS/INVEST_ELS/MODELLING/3_VECTOR/subwatersheds.shp',\n",
    "\n",
    "    # Tabla biophysica\n",
    "    'biophysical_table_path': '/home/cbrenes/GIS/INVEST_ELS/MODELLING/4_TABLES/biophysical_master_v140725.csv',\n",
    "\n",
    "    # Constante de estacionalidad\n",
    "    'seasonality_constant': 4.0,\n",
    "\n",
    "    # Opcional: demanda y valoración\n",
    "    # 'demand_table_path':   '/home/cbrenes/GIS/INVEST_ELS/MODELLING/4_TABLES/demand_table.csv',\n",
    "    # 'valuation_table_path':'/home/cbrenes/GIS/INVEST_ELS/MODELLING/4_TABLES/valuation_table.csv',\n",
    "\n",
    "    'n_workers': 4,\n",
    "}"
   ]
  },
  {
   "cell_type": "code",
   "execution_count": 5,
   "id": "a4539b76-77ee-445f-b96f-7cfa77adca5b",
   "metadata": {},
   "outputs": [
    {
     "name": "stdout",
     "output_type": "stream",
     "text": [
      "Ejecutando Annual Water Yield con rutas absolutas…\n"
     ]
    },
    {
     "name": "stderr",
     "output_type": "stream",
     "text": [
      "Warning 1: A geometry of type MULTIPOLYGON is inserted into layer disjoint_vector of geometry type POLYGON, which is not normally allowed by the GeoPackage specification, but the driver will however do it. To create a conformant GeoPackage, if using ogr2ogr, the -nlt option can be used to override the layer geometry type. This warning will no longer be emitted for this combination of layer and feature geometry type.\n",
      "Warning 1: A geometry of type MULTIPOLYGON is inserted into layer disjoint_vector of geometry type POLYGON, which is not normally allowed by the GeoPackage specification, but the driver will however do it. To create a conformant GeoPackage, if using ogr2ogr, the -nlt option can be used to override the layer geometry type. This warning will no longer be emitted for this combination of layer and feature geometry type.\n",
      "Warning 1: A geometry of type MULTIPOLYGON is inserted into layer disjoint_vector of geometry type POLYGON, which is not normally allowed by the GeoPackage specification, but the driver will however do it. To create a conformant GeoPackage, if using ogr2ogr, the -nlt option can be used to override the layer geometry type. This warning will no longer be emitted for this combination of layer and feature geometry type.\n",
      "Warning 1: A geometry of type MULTIPOLYGON is inserted into layer disjoint_vector of geometry type POLYGON, which is not normally allowed by the GeoPackage specification, but the driver will however do it. To create a conformant GeoPackage, if using ogr2ogr, the -nlt option can be used to override the layer geometry type. This warning will no longer be emitted for this combination of layer and feature geometry type.\n",
      "Warning 1: A geometry of type MULTIPOLYGON is inserted into layer disjoint_vector of geometry type POLYGON, which is not normally allowed by the GeoPackage specification, but the driver will however do it. To create a conformant GeoPackage, if using ogr2ogr, the -nlt option can be used to override the layer geometry type. This warning will no longer be emitted for this combination of layer and feature geometry type.\n",
      "Warning 1: A geometry of type MULTIPOLYGON is inserted into layer disjoint_vector of geometry type POLYGON, which is not normally allowed by the GeoPackage specification, but the driver will however do it. To create a conformant GeoPackage, if using ogr2ogr, the -nlt option can be used to override the layer geometry type. This warning will no longer be emitted for this combination of layer and feature geometry type.\n",
      "Warning 1: A geometry of type MULTIPOLYGON is inserted into layer disjoint_vector of geometry type POLYGON, which is not normally allowed by the GeoPackage specification, but the driver will however do it. To create a conformant GeoPackage, if using ogr2ogr, the -nlt option can be used to override the layer geometry type. This warning will no longer be emitted for this combination of layer and feature geometry type.\n",
      "Warning 1: A geometry of type MULTIPOLYGON is inserted into layer disjoint_vector of geometry type POLYGON, which is not normally allowed by the GeoPackage specification, but the driver will however do it. To create a conformant GeoPackage, if using ogr2ogr, the -nlt option can be used to override the layer geometry type. This warning will no longer be emitted for this combination of layer and feature geometry type.\n"
     ]
    },
    {
     "name": "stdout",
     "output_type": "stream",
     "text": [
      "✅ Módulo completado. Salidas en: /home/cbrenes/GIS/INVEST_ELS/MODELLING/workspace_wy\n"
     ]
    }
   ],
   "source": [
    "print(\"Ejecutando Annual Water Yield con rutas absolutas…\")\n",
    "wy_execute(args)\n",
    "print(\"✅ Módulo completado. Salidas en:\", args['workspace_dir'])"
   ]
  },
  {
   "cell_type": "code",
   "execution_count": null,
   "id": "21c7044a-6aab-4f44-b77d-65a184795f69",
   "metadata": {},
   "outputs": [],
   "source": []
  }
 ],
 "metadata": {
  "kernelspec": {
   "display_name": "Python 3 (ipykernel)",
   "language": "python",
   "name": "python3"
  },
  "language_info": {
   "codemirror_mode": {
    "name": "ipython",
    "version": 3
   },
   "file_extension": ".py",
   "mimetype": "text/x-python",
   "name": "python",
   "nbconvert_exporter": "python",
   "pygments_lexer": "ipython3",
   "version": "3.10.18"
  }
 },
 "nbformat": 4,
 "nbformat_minor": 5
}
