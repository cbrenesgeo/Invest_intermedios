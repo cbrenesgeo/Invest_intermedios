{
 "cells": [
  {
   "cell_type": "code",
   "execution_count": 2,
   "id": "872ecf0f-a06d-4bb8-8243-d001a4623d73",
   "metadata": {},
   "outputs": [
    {
     "name": "stdout",
     "output_type": "stream",
     "text": [
      "▶ Ejecutando InVEST Crop Production – Percentile…\n",
      "✅ Listo. Revisa la carpeta de salida: /home/cbrenes/GIS/INVEST_ELS/MODELLING/workspace_crop_percentile\n",
      "   - result_table_pctl.csv\n",
      "   - [crop]_yield_[25|50|75|95]_pctl.tif\n",
      "   - [crop]_observed_production_pctl.tif\n"
     ]
    }
   ],
   "source": [
    "#!/usr/bin/env python3\n",
    "# -*- coding: utf-8 -*-\n",
    "\n",
    "import os\n",
    "import sys\n",
    "from natcap.invest.crop_production_percentile import execute as cpp_execute\n",
    "\n",
    "# ── RUTAS DEL USUARIO ─────────────────────────────────────────────────────────\n",
    "lulc_raster = \"/home/cbrenes/GIS/INVEST_ELS/MODELLING/2_RASTER/lulc_16_30m.tif\"\n",
    "lulc_to_crop_csv = \"/home/cbrenes/GIS/INVEST_ELS/MODELLING/4_TABLES/lulc_to_crop_percentile.csv\"\n",
    "\n",
    "# ⚠️ Ajusta esta ruta a tu copia local de 'model_data' (del paquete CropProduction)\n",
    "# Ejemplo común:\n",
    "# model_data_dir = \"/home/cbrenes/GIS/INVEST_ELS/MODELLING/3_MODEL_DATA/CropProduction/model_data\"\n",
    "model_data_dir = \"/home/cbrenes/GIS/INVEST_ELS/MODELLING/7_SAMPLE_DATA/CropProduction/model_data\"\n",
    "\n",
    "# Carpeta de salida\n",
    "workspace = \"/home/cbrenes/GIS/INVEST_ELS/MODELLING/workspace_crop_percentile\"\n",
    "\n",
    "# (Opcional) polígonos para agregación (municipios/cuencas). Déjalo en None para omitir.\n",
    "aggregate_vector = None  # p.ej.: \"/home/cbrenes/GIS/.../unidades.shp\"\n",
    "\n",
    "# ── VALIDACIONES RÁPIDAS ─────────────────────────────────────────────────────\n",
    "for p in [lulc_raster, lulc_to_crop_csv, model_data_dir]:\n",
    "    if not os.path.exists(p):\n",
    "        sys.exit(f\"❌ No existe la ruta: {p}\")\n",
    "\n",
    "os.makedirs(workspace, exist_ok=True)\n",
    "\n",
    "# ── ARGUMENTOS DEL MODELO ────────────────────────────────────────────────────\n",
    "args = {\n",
    "    \"workspace_dir\": workspace,\n",
    "    \"results_suffix\": \"_pctl\",\n",
    "    \"landcover_raster_path\": lulc_raster,\n",
    "    \"landcover_to_crop_table_path\": lulc_to_crop_csv,\n",
    "    \"model_data_path\": model_data_dir,\n",
    "    \"aggregate_polygon_path\": aggregate_vector,  # None para no agregar por polígonos\n",
    "    # \"n_workers\": 4,  # opcional\n",
    "}\n",
    "\n",
    "# ── EJECUCIÓN ────────────────────────────────────────────────────────────────\n",
    "print(\"▶ Ejecutando InVEST Crop Production – Percentile…\")\n",
    "cpp_execute(args)\n",
    "print(\"✅ Listo. Revisa la carpeta de salida:\", workspace)\n",
    "print(\"   - result_table_pctl.csv\")\n",
    "print(\"   - [crop]_yield_[25|50|75|95]_pctl.tif\")\n",
    "print(\"   - [crop]_observed_production_pctl.tif\")\n"
   ]
  },
  {
   "cell_type": "code",
   "execution_count": null,
   "id": "d7095148-df7e-4941-a21c-a38867af5c97",
   "metadata": {},
   "outputs": [],
   "source": []
  }
 ],
 "metadata": {
  "kernelspec": {
   "display_name": "Python 3 (ipykernel)",
   "language": "python",
   "name": "python3"
  },
  "language_info": {
   "codemirror_mode": {
    "name": "ipython",
    "version": 3
   },
   "file_extension": ".py",
   "mimetype": "text/x-python",
   "name": "python",
   "nbconvert_exporter": "python",
   "pygments_lexer": "ipython3",
   "version": "3.10.18"
  }
 },
 "nbformat": 4,
 "nbformat_minor": 5
}
