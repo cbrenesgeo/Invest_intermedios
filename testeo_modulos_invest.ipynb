{
 "cells": [
  {
   "cell_type": "markdown",
   "id": "6ed91ec2-99f6-4c2a-9560-dfedd4dc620e",
   "metadata": {},
   "source": [
    "## Importa la librería\n"
   ]
  },
  {
   "cell_type": "code",
   "execution_count": 1,
   "id": "9f3cc75c-a7c7-44c7-a42e-b844d5b98f70",
   "metadata": {},
   "outputs": [],
   "source": [
    "import natcap.invest"
   ]
  },
  {
   "cell_type": "markdown",
   "id": "7e91f12b-38ed-41de-92ad-d04dba3fb1ad",
   "metadata": {},
   "source": [
    "## Imprime versión de la librería\n"
   ]
  },
  {
   "cell_type": "code",
   "execution_count": 2,
   "id": "13303ee0-a9b6-45d4-a294-47c028df9161",
   "metadata": {},
   "outputs": [
    {
     "name": "stdout",
     "output_type": "stream",
     "text": [
      "3.16.1\n"
     ]
    }
   ],
   "source": [
    "print(natcap.invest.__version__)"
   ]
  },
  {
   "cell_type": "markdown",
   "id": "1fa9fe2b-7764-4e46-83cd-ec5c82041583",
   "metadata": {},
   "source": [
    "## Prueba de importación de módulo NDR \n",
    "# Imprime los argumentos del módulo"
   ]
  },
  {
   "cell_type": "code",
   "execution_count": 16,
   "id": "dca14419-db37-4384-9448-5959af4c9a1e",
   "metadata": {
    "scrolled": true
   },
   "outputs": [
    {
     "name": "stdout",
     "output_type": "stream",
     "text": [
      "Help on function execute in module natcap.invest.ndr.ndr:\n",
      "\n",
      "execute(args)\n",
      "    Nutrient Delivery Ratio.\n",
      "    \n",
      "    Args:\n",
      "        args['workspace_dir'] (string):  path to current workspace\n",
      "        args['dem_path'] (string): path to digital elevation map raster\n",
      "        args['lulc_path'] (string): a path to landcover map raster\n",
      "        args['runoff_proxy_path'] (string): a path to a runoff proxy raster\n",
      "        args['watersheds_path'] (string): path to the watershed shapefile\n",
      "        args['biophysical_table_path'] (string): path to csv table on disk\n",
      "            containing nutrient retention values.\n",
      "    \n",
      "            For each nutrient type [t] in args['calc_[t]'] that is true, must\n",
      "            contain the following headers:\n",
      "    \n",
      "            'load_[t]', 'eff_[t]', 'crit_len_[t]'\n",
      "    \n",
      "            If args['calc_n'] is True, must also contain the header\n",
      "            'proportion_subsurface_n' field.\n",
      "    \n",
      "        args['calc_p'] (boolean): if True, phosphorus is modeled,\n",
      "            additionally if True then biophysical table must have p fields in\n",
      "            them\n",
      "        args['calc_n'] (boolean): if True nitrogen will be modeled,\n",
      "            additionally biophysical table must have n fields in them.\n",
      "        args['results_suffix'] (string): (optional) a text field to append to\n",
      "            all output files\n",
      "        args['threshold_flow_accumulation']: a number representing the flow\n",
      "            accumulation in terms of upslope pixels.\n",
      "        args['k_param'] (number): The Borselli k parameter. This is a\n",
      "            calibration parameter that determines the shape of the\n",
      "            relationship between hydrologic connectivity.\n",
      "        args['runoff_proxy_av'] (number): (optional) The average runoff proxy.\n",
      "            Used to calculate the runoff proxy index. If not specified,\n",
      "            it will be automatically calculated.\n",
      "        args['subsurface_critical_length_n'] (number): The distance (traveled\n",
      "            subsurface and downslope) after which it is assumed that soil\n",
      "            retains nutrient at its maximum capacity, given in meters. If\n",
      "            dissolved nutrients travel a distance smaller than Subsurface\n",
      "            Critical Length, the retention efficiency will be lower than the\n",
      "            Subsurface Maximum Retention Efficiency value defined. Setting this\n",
      "            value to a distance smaller than the pixel size will result in the\n",
      "            maximum retention efficiency being reached within one pixel only.\n",
      "            Required if ``calc_n``.\n",
      "        args['subsurface_eff_n'] (number): The maximum nutrient retention\n",
      "            efficiency that can be reached through subsurface flow, a floating\n",
      "            point value between 0 and 1. This field characterizes the retention\n",
      "            due to biochemical degradation in soils.  Required if ``calc_n``.\n",
      "        args['n_workers'] (int): if present, indicates how many worker\n",
      "            processes should be used in parallel processing. -1 indicates\n",
      "            single process mode, 0 is single process but non-blocking mode,\n",
      "            and >= 1 is number of processes.\n",
      "    \n",
      "    Returns:\n",
      "        None\n",
      "\n"
     ]
    }
   ],
   "source": [
    "from natcap.invest.ndr import ndr\n",
    "help(ndr.execute)\n"
   ]
  },
  {
   "cell_type": "markdown",
   "id": "0bfa7300-e10a-497d-8f89-95e259cbfa29",
   "metadata": {},
   "source": [
    "## Lista de modulos disponibles dentro de la librería"
   ]
  },
  {
   "cell_type": "code",
   "execution_count": 14,
   "id": "4c4bd054-cf53-42bd-b49f-378d766ac47e",
   "metadata": {},
   "outputs": [
    {
     "name": "stdout",
     "output_type": "stream",
     "text": [
      "['__main__', 'annual_water_yield', 'carbon', 'cli', 'coastal_blue_carbon', 'coastal_vulnerability', 'crop_production_percentile', 'crop_production_regression', 'datastack', 'delineateit', 'forest_carbon_edge_effect', 'habitat_quality', 'hra', 'managed_raster', 'models', 'ndr', 'pollination', 'recreation', 'routedem', 'scenario_gen_proximity', 'scenic_quality', 'sdr', 'seasonal_water_yield', 'spec', 'stormwater', 'ui_server', 'unit_registry', 'urban_cooling_model', 'urban_flood_risk_mitigation', 'urban_nature_access', 'usage', 'utils', 'validation', 'wave_energy', 'wind_energy']\n"
     ]
    }
   ],
   "source": [
    "import pkgutil, natcap.invest; print([name for _, name, _ in pkgutil.iter_modules(natcap.invest.__path__)])\n"
   ]
  },
  {
   "cell_type": "code",
   "execution_count": 13,
   "id": "53a94cee-c491-40aa-8914-be16a24df5a2",
   "metadata": {},
   "outputs": [
    {
     "ename": "SyntaxError",
     "evalue": "invalid syntax (1350006072.py, line 1)",
     "output_type": "error",
     "traceback": [
      "\u001b[0;36m  Cell \u001b[0;32mIn[13], line 1\u001b[0;36m\u001b[0m\n\u001b[0;31m    invest list\u001b[0m\n\u001b[0m           ^\u001b[0m\n\u001b[0;31mSyntaxError\u001b[0m\u001b[0;31m:\u001b[0m invalid syntax\n"
     ]
    }
   ],
   "source": [
    "invest list"
   ]
  },
  {
   "cell_type": "markdown",
   "id": "7f89a42f-3e4b-4ef3-8586-1d0adf6d0837",
   "metadata": {},
   "source": [
    "### Lista de argumentos (forma diferente)"
   ]
  },
  {
   "cell_type": "code",
   "execution_count": 22,
   "id": "bf9f89ee-254b-4e0c-be79-063a257d0252",
   "metadata": {},
   "outputs": [
    {
     "name": "stdout",
     "output_type": "stream",
     "text": [
      "Help on function execute in module natcap.invest.urban_flood_risk_mitigation:\n",
      "\n",
      "execute(args)\n",
      "    Urban Flood Risk Mitigation.\n",
      "    \n",
      "    The model computes the peak flow attenuation for each pixel, delineates\n",
      "    areas benefiting from this service, then calculates the monetary value of\n",
      "    potential avoided damage to built infrastructure.\n",
      "    \n",
      "    Args:\n",
      "        args['workspace_dir'] (string): a path to the directory that will\n",
      "            write output and other temporary files during calculation.\n",
      "        args['results_suffix'] (string): appended to any output file name.\n",
      "        args['aoi_watersheds_path'] (string): path to a shapefile of\n",
      "            (sub)watersheds or sewersheds used to indicate spatial area of\n",
      "            interest.\n",
      "        args['rainfall_depth'] (float): depth of rainfall in mm.\n",
      "        args['lulc_path'] (string): path to a landcover raster.\n",
      "        args['soils_hydrological_group_raster_path'] (string): Raster with\n",
      "            values equal to 1, 2, 3, 4, corresponding to soil hydrologic group\n",
      "            A, B, C, or D, respectively (used to derive the CN number).\n",
      "        args['curve_number_table_path'] (string): path to a CSV table that\n",
      "            contains at least the headers 'lucode', 'CN_A', 'CN_B', 'CN_C',\n",
      "            'CN_D'.\n",
      "        args['built_infrastructure_vector_path'] (string): (optional) path to\n",
      "            a vector with built infrastructure footprints. Attribute table\n",
      "            contains a column 'Type' with integers (e.g. 1=residential,\n",
      "            2=office, etc.).\n",
      "        args['infrastructure_damage_loss_table_path'] (string): (optional)\n",
      "            path to a CSV table with columns 'Type' and 'Damage' with values\n",
      "            of built infrastructure type from the 'Type' field in\n",
      "            ``args['built_infrastructure_vector_path']`` and potential damage\n",
      "            loss (in currency/m^2).\n",
      "        args['n_workers'] (int): (optional) if present, indicates how many\n",
      "            worker processes should be used in parallel processing. -1\n",
      "            indicates single process mode, 0 is single process but\n",
      "            non-blocking mode, and >= 1 is number of processes.\n",
      "    \n",
      "    Returns:\n",
      "        None.\n",
      "\n"
     ]
    }
   ],
   "source": [
    "# Opción A: importar el módulo completo\n",
    "import natcap.invest.urban_flood_risk_mitigation\n",
    "\n",
    "# Luego inspeccionas la función execute\n",
    "help(natcap.invest.urban_flood_risk_mitigation.execute)\n",
    "\n"
   ]
  },
  {
   "cell_type": "code",
   "execution_count": null,
   "id": "106cb90b-08c4-495b-a53c-8d8add6f7bea",
   "metadata": {},
   "outputs": [],
   "source": []
  }
 ],
 "metadata": {
  "kernelspec": {
   "display_name": "Python 3 (ipykernel)",
   "language": "python",
   "name": "python3"
  },
  "language_info": {
   "codemirror_mode": {
    "name": "ipython",
    "version": 3
   },
   "file_extension": ".py",
   "mimetype": "text/x-python",
   "name": "python",
   "nbconvert_exporter": "python",
   "pygments_lexer": "ipython3",
   "version": "3.10.18"
  }
 },
 "nbformat": 4,
 "nbformat_minor": 5
}
